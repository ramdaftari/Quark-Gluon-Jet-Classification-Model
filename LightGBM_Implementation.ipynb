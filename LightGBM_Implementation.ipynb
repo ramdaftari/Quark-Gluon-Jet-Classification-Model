{
  "cells": [
    {
      "cell_type": "code",
      "execution_count": null,
      "metadata": {
        "colab": {
          "base_uri": "https://localhost:8080/"
        },
        "id": "jFX3rffHA4a5",
        "outputId": "15f88d33-2bb8-4372-d162-4fa74aa1369b"
      },
      "outputs": [
        {
          "name": "stdout",
          "output_type": "stream",
          "text": [
            "Requirement already satisfied: lightgbm in /usr/local/lib/python3.11/dist-packages (4.5.0)\n",
            "Requirement already satisfied: numpy>=1.17.0 in /usr/local/lib/python3.11/dist-packages (from lightgbm) (1.26.4)\n",
            "Requirement already satisfied: scipy in /usr/local/lib/python3.11/dist-packages (from lightgbm) (1.13.1)\n",
            "Requirement already satisfied: optuna in /usr/local/lib/python3.11/dist-packages (4.2.0)\n",
            "Requirement already satisfied: alembic>=1.5.0 in /usr/local/lib/python3.11/dist-packages (from optuna) (1.14.1)\n",
            "Requirement already satisfied: colorlog in /usr/local/lib/python3.11/dist-packages (from optuna) (6.9.0)\n",
            "Requirement already satisfied: numpy in /usr/local/lib/python3.11/dist-packages (from optuna) (1.26.4)\n",
            "Requirement already satisfied: packaging>=20.0 in /usr/local/lib/python3.11/dist-packages (from optuna) (24.2)\n",
            "Requirement already satisfied: sqlalchemy>=1.4.2 in /usr/local/lib/python3.11/dist-packages (from optuna) (2.0.37)\n",
            "Requirement already satisfied: tqdm in /usr/local/lib/python3.11/dist-packages (from optuna) (4.67.1)\n",
            "Requirement already satisfied: PyYAML in /usr/local/lib/python3.11/dist-packages (from optuna) (6.0.2)\n",
            "Requirement already satisfied: Mako in /usr/local/lib/python3.11/dist-packages (from alembic>=1.5.0->optuna) (1.3.8)\n",
            "Requirement already satisfied: typing-extensions>=4 in /usr/local/lib/python3.11/dist-packages (from alembic>=1.5.0->optuna) (4.12.2)\n",
            "Requirement already satisfied: greenlet!=0.4.17 in /usr/local/lib/python3.11/dist-packages (from sqlalchemy>=1.4.2->optuna) (3.1.1)\n",
            "Requirement already satisfied: MarkupSafe>=0.9.2 in /usr/local/lib/python3.11/dist-packages (from Mako->alembic>=1.5.0->optuna) (3.0.2)\n",
            "Requirement already satisfied: imblearn in /usr/local/lib/python3.11/dist-packages (0.0)\n",
            "Requirement already satisfied: imbalanced-learn in /usr/local/lib/python3.11/dist-packages (from imblearn) (0.13.0)\n",
            "Requirement already satisfied: numpy<3,>=1.24.3 in /usr/local/lib/python3.11/dist-packages (from imbalanced-learn->imblearn) (1.26.4)\n",
            "Requirement already satisfied: scipy<2,>=1.10.1 in /usr/local/lib/python3.11/dist-packages (from imbalanced-learn->imblearn) (1.13.1)\n",
            "Requirement already satisfied: scikit-learn<2,>=1.3.2 in /usr/local/lib/python3.11/dist-packages (from imbalanced-learn->imblearn) (1.6.1)\n",
            "Requirement already satisfied: sklearn-compat<1,>=0.1 in /usr/local/lib/python3.11/dist-packages (from imbalanced-learn->imblearn) (0.1.3)\n",
            "Requirement already satisfied: joblib<2,>=1.1.1 in /usr/local/lib/python3.11/dist-packages (from imbalanced-learn->imblearn) (1.4.2)\n",
            "Requirement already satisfied: threadpoolctl<4,>=2.0.0 in /usr/local/lib/python3.11/dist-packages (from imbalanced-learn->imblearn) (3.5.0)\n"
          ]
        }
      ],
      "source": [
        "!pip install lightgbm\n",
        "!pip install optuna\n",
        "!pip install imblearn"
      ]
    },
    {
      "cell_type": "code",
      "execution_count": null,
      "metadata": {
        "id": "2Hg_ywjIFCeK"
      },
      "outputs": [],
      "source": [
        "import lightgbm as lgb\n",
        "import numpy as np\n",
        "import pandas as pd\n",
        "import optuna\n",
        "from sklearn.model_selection import train_test_split\n",
        "from sklearn.metrics import accuracy_score, classification_report, confusion_matrix\n",
        "from imblearn.over_sampling import SMOTE"
      ]
    },
    {
      "cell_type": "code",
      "execution_count": null,
      "metadata": {
        "colab": {
          "base_uri": "https://localhost:8080/"
        },
        "id": "uRsulrkAHfBZ",
        "outputId": "e0f67e96-adaf-4f1e-cb21-51d12d653689"
      },
      "outputs": [
        {
          "name": "stderr",
          "output_type": "stream",
          "text": [
            "<ipython-input-9-64cfbc84d6e6>:37: SettingWithCopyWarning: \n",
            "A value is trying to be set on a copy of a slice from a DataFrame.\n",
            "Try using .loc[row_indexer,col_indexer] = value instead\n",
            "\n",
            "See the caveats in the documentation: https://pandas.pydata.org/pandas-docs/stable/user_guide/indexing.html#returning-a-view-versus-a-copy\n",
            "  df_particles['EventLabel'] = y_combined[df_particles.index]\n"
          ]
        }
      ],
      "source": [
        "'''\n",
        "Will load and flatten the dataset, then turn 3d data into 2d ie sets of particles will be converted to multiple entries of individual\n",
        "particles with event IDs, then merging the data and using SMOTE\n",
        "'''\n",
        "# Load datasets\n",
        "file1 = np.load('/content/QG_jets.npz')\n",
        "file2 = np.load('/content/QG_jets_1.npz')\n",
        "file3 = np.load('/content/QG_jets_14.npz')\n",
        "X1, y1 = file1['X'], file1['y']\n",
        "X2, y2 = file2['X'], file2['y']\n",
        "X3, y3 = file3['X'], file3['y']\n",
        "\n",
        "# Function to process events\n",
        "def process_events(X, y):\n",
        "    num_events, num_particles, num_features = X.shape\n",
        "    X_reshaped = X.reshape(-1, num_features)\n",
        "    event_labels = np.repeat(y, num_particles)\n",
        "    event_ids = np.repeat(np.arange(num_events), num_particles)\n",
        "    return X_reshaped, event_labels, event_ids\n",
        "\n",
        "# Process datasets\n",
        "X1_proc, y1_proc, event_ids1 = process_events(X1, y1)\n",
        "X2_proc, y2_proc, event_ids2 = process_events(X2, y2)\n",
        "X3_proc, y3_proc, event_ids3 = process_events(X3, y3)\n",
        "\n",
        "# Combine datasets\n",
        "X_combined = np.concatenate([X1_proc, X2_proc, X3_proc], axis=0)\n",
        "y_combined = np.concatenate([y1_proc, y2_proc, y3_proc], axis=0)\n",
        "event_ids_combined = np.concatenate([event_ids1, event_ids2, event_ids3], axis=0)\n",
        "\n",
        "# Create DataFrame\n",
        "df_particles = pd.DataFrame(X_combined, columns=['pT', 'Rapidity', 'Phi', 'PDGID'])\n",
        "df_particles['EventID'] = event_ids_combined\n",
        "df_particles = df_particles[df_particles['pT'] != 0]\n",
        "\n",
        "# Add event labels\n",
        "df_particles['EventLabel'] = y_combined[df_particles.index]"
      ]
    },
    {
      "cell_type": "code",
      "execution_count": null,
      "metadata": {
        "id": "_N8lbVCksPmJ"
      },
      "outputs": [],
      "source": [
        "'''\n",
        "Cutting down on DataFrame due to computational expense\n",
        "'''\n",
        "df_particles = df_particles.sample(frac=1/3, random_state=42).reset_index(drop=True)"
      ]
    },
    {
      "cell_type": "code",
      "execution_count": null,
      "metadata": {
        "colab": {
          "base_uri": "https://localhost:8080/"
        },
        "id": "MRms1fT8i6om",
        "outputId": "eba6de58-b5ea-4418-f142-8667dc4e73d1"
      },
      "outputs": [
        {
          "name": "stdout",
          "output_type": "stream",
          "text": [
            "                pT  Rapidity       Phi  PDGID\n",
            "1895711   0.197004  0.307349  4.256269 -321.0\n",
            "3673504   1.044185 -0.297651  1.242695   22.0\n",
            "2446179   1.936297 -0.928100  0.975068  211.0\n",
            "2696472   0.716918  0.495493  2.554583  211.0\n",
            "3718479   0.543804 -0.378393 -0.042480   22.0\n",
            "...            ...       ...       ...    ...\n",
            "1008584   2.215158  1.260680  0.440102   11.0\n",
            "452227   21.193859 -0.360843  3.229057   22.0\n",
            "4795641   5.484217 -0.440632  0.485342   22.0\n",
            "1771160   1.845783  1.225236  2.998239 -211.0\n",
            "71530     0.522798 -0.545662  3.857524   22.0\n",
            "\n",
            "[4253492 rows x 4 columns]\n"
          ]
        }
      ],
      "source": [
        "'''\n",
        "Using SMOTE now to identify the minority class, creating synthetic samples (in between two already existing samples)\n",
        "-> will balance dataset\n",
        "'''\n",
        "\n",
        "X_for_Split = df_particles[['pT', 'Rapidity', 'Phi', 'PDGID']]\n",
        "Y_for_Split = df_particles['EventLabel']\n",
        "smote = SMOTE(random_state = 3)\n",
        "X_final, Y_final = smote.fit_resample(X_for_Split, Y_for_Split)\n",
        "\n",
        "# Train-test split\n",
        "X_train, X_test, Y_train, Y_test = train_test_split(X_final, Y_final, test_size=0.2, random_state=3)\n",
        "\n",
        "# Check the training labels\n",
        "print(X_train)"
      ]
    },
    {
      "cell_type": "code",
      "execution_count": null,
      "metadata": {
        "colab": {
          "background_save": true
        },
        "id": "6efZgNUOvfHb",
        "outputId": "a14b5642-d5c8-4e91-ee2f-7a6351ac19df"
      },
      "outputs": [
        {
          "name": "stdout",
          "output_type": "stream",
          "text": [
            "Training accuracy: 0.5464\n",
            "Testing accuracy: 0.5456\n"
          ]
        }
      ],
      "source": [
        "'''\n",
        "Configuring basic model and testing\n",
        "'''\n",
        "\n",
        "lgb_model = lgb.LGBMClassifier()\n",
        "lgb_model.fit(X_train, Y_train)\n",
        "\n",
        "# Evaluate\n",
        "Y_pred = lgb_model.predict(X_test)\n",
        "train_accuracy = lgb_model.score(X_train, Y_train)\n",
        "test_accuracy = lgb_model.score(X_test, Y_test)\n",
        "print(f'Training accuracy: {train_accuracy:.4f}')\n",
        "print(f'Testing accuracy: {test_accuracy:.4f}')"
      ]
    },
    {
      "cell_type": "code",
      "execution_count": 21,
      "metadata": {
        "id": "FqbLJuvsPv4T"
      },
      "outputs": [],
      "source": [
        "def tune(trial):\n",
        "  p = {\n",
        "        'boosting_type': 'gbdt',\n",
        "        'learning_rate': trial.suggest_float('learning_rate', 0.05, 0.2),\n",
        "        'num_leaves': trial.suggest_int('num_leaves', 20, 50),\n",
        "        'max_depth': trial.suggest_int('max_depth', 5, 10),\n",
        "        'n_estimators': trial.suggest_int('n_estimators', 100, 300),\n",
        "        'random_state': 42,\n",
        "        'verbosity': -1  }\n",
        "  model = lgb.LGBMClassifier(**p)\n",
        "  model.fit(X_train,Y_train,eval_set=[(X_test,Y_test),(X_train,Y_train)],eval_metric='logloss')\n",
        "  train_accuracy = model.score(X_train, Y_train)\n",
        "  test_accuracy = model.score(X_test, Y_test)\n",
        "  print(f'Training accuracy: {train_accuracy:.4f}')\n",
        "  print(f'Testing accuracy: {test_accuracy:.4f}')\n",
        "\n",
        "  # Return the testing accuracy for optimization\n",
        "  return test_accuracy\n"
      ]
    },
    {
      "cell_type": "code",
      "execution_count": 22,
      "metadata": {
        "colab": {
          "base_uri": "https://localhost:8080/"
        },
        "id": "otSub42zIHDG",
        "outputId": "c14cd061-27af-4f69-e5c7-5bf14ba03b89"
      },
      "outputs": [
        {
          "output_type": "stream",
          "name": "stderr",
          "text": [
            "[I 2025-01-27 17:21:55,362] A new study created in memory with name: no-name-a45e944d-66b6-4303-8e91-749005525d2a\n",
            "[I 2025-01-27 17:24:00,617] Trial 0 finished with value: 0.5466580901921619 and parameters: {'learning_rate': 0.12268572811509736, 'num_leaves': 50, 'max_depth': 10, 'n_estimators': 174}. Best is trial 0 with value: 0.5466580901921619.\n"
          ]
        },
        {
          "output_type": "stream",
          "name": "stdout",
          "text": [
            "Training accuracy: 0.5493\n",
            "Testing accuracy: 0.5467\n"
          ]
        },
        {
          "output_type": "stream",
          "name": "stderr",
          "text": [
            "[I 2025-01-27 17:25:53,559] Trial 1 finished with value: 0.5470803310970552 and parameters: {'learning_rate': 0.19737567831284208, 'num_leaves': 48, 'max_depth': 9, 'n_estimators': 179}. Best is trial 1 with value: 0.5470803310970552.\n"
          ]
        },
        {
          "output_type": "stream",
          "name": "stdout",
          "text": [
            "Training accuracy: 0.5511\n",
            "Testing accuracy: 0.5471\n"
          ]
        },
        {
          "output_type": "stream",
          "name": "stderr",
          "text": [
            "[I 2025-01-27 17:27:31,888] Trial 2 finished with value: 0.5463327107866094 and parameters: {'learning_rate': 0.13354392333099285, 'num_leaves': 41, 'max_depth': 7, 'n_estimators': 133}. Best is trial 1 with value: 0.5470803310970552.\n"
          ]
        },
        {
          "output_type": "stream",
          "name": "stdout",
          "text": [
            "Training accuracy: 0.5480\n",
            "Testing accuracy: 0.5463\n"
          ]
        },
        {
          "output_type": "stream",
          "name": "stderr",
          "text": [
            "[I 2025-01-27 17:29:30,884] Trial 3 finished with value: 0.5459621920415583 and parameters: {'learning_rate': 0.10124218984311545, 'num_leaves': 27, 'max_depth': 10, 'n_estimators': 173}. Best is trial 1 with value: 0.5470803310970552.\n"
          ]
        },
        {
          "output_type": "stream",
          "name": "stdout",
          "text": [
            "Training accuracy: 0.5471\n",
            "Testing accuracy: 0.5460\n"
          ]
        },
        {
          "output_type": "stream",
          "name": "stderr",
          "text": [
            "[I 2025-01-27 17:31:53,785] Trial 4 finished with value: 0.5469016545448732 and parameters: {'learning_rate': 0.19216272526909622, 'num_leaves': 39, 'max_depth': 8, 'n_estimators': 238}. Best is trial 1 with value: 0.5470803310970552.\n"
          ]
        },
        {
          "output_type": "stream",
          "name": "stdout",
          "text": [
            "Training accuracy: 0.5512\n",
            "Testing accuracy: 0.5469\n"
          ]
        },
        {
          "output_type": "stream",
          "name": "stderr",
          "text": [
            "[I 2025-01-27 17:34:22,641] Trial 5 finished with value: 0.5459574900270272 and parameters: {'learning_rate': 0.08601035233411654, 'num_leaves': 20, 'max_depth': 8, 'n_estimators': 224}. Best is trial 1 with value: 0.5470803310970552.\n"
          ]
        },
        {
          "output_type": "stream",
          "name": "stdout",
          "text": [
            "Training accuracy: 0.5468\n",
            "Testing accuracy: 0.5460\n"
          ]
        },
        {
          "output_type": "stream",
          "name": "stderr",
          "text": [
            "[I 2025-01-27 17:35:53,324] Trial 6 finished with value: 0.5460327222595248 and parameters: {'learning_rate': 0.14911966329736218, 'num_leaves': 27, 'max_depth': 10, 'n_estimators': 133}. Best is trial 1 with value: 0.5470803310970552.\n"
          ]
        },
        {
          "output_type": "stream",
          "name": "stdout",
          "text": [
            "Training accuracy: 0.5473\n",
            "Testing accuracy: 0.5460\n"
          ]
        },
        {
          "output_type": "stream",
          "name": "stderr",
          "text": [
            "[I 2025-01-27 17:38:06,794] Trial 7 finished with value: 0.5462697037918925 and parameters: {'learning_rate': 0.10650021449225841, 'num_leaves': 42, 'max_depth': 8, 'n_estimators': 181}. Best is trial 1 with value: 0.5470803310970552.\n"
          ]
        },
        {
          "output_type": "stream",
          "name": "stdout",
          "text": [
            "Training accuracy: 0.5480\n",
            "Testing accuracy: 0.5463\n"
          ]
        },
        {
          "output_type": "stream",
          "name": "stderr",
          "text": [
            "[I 2025-01-27 17:41:11,281] Trial 8 finished with value: 0.546943032272747 and parameters: {'learning_rate': 0.11982307136167332, 'num_leaves': 49, 'max_depth': 9, 'n_estimators': 288}. Best is trial 1 with value: 0.5470803310970552.\n"
          ]
        },
        {
          "output_type": "stream",
          "name": "stdout",
          "text": [
            "Training accuracy: 0.5514\n",
            "Testing accuracy: 0.5469\n"
          ]
        },
        {
          "output_type": "stream",
          "name": "stderr",
          "text": [
            "[I 2025-01-27 17:43:49,354] Trial 9 finished with value: 0.547015443296526 and parameters: {'learning_rate': 0.16998919671291174, 'num_leaves': 42, 'max_depth': 9, 'n_estimators': 261}. Best is trial 1 with value: 0.5470803310970552.\n"
          ]
        },
        {
          "output_type": "stream",
          "name": "stdout",
          "text": [
            "Training accuracy: 0.5520\n",
            "Testing accuracy: 0.5470\n"
          ]
        },
        {
          "output_type": "stream",
          "name": "stderr",
          "text": [
            "[I 2025-01-27 17:45:09,716] Trial 10 finished with value: 0.5449352720679648 and parameters: {'learning_rate': 0.0513359336235753, 'num_leaves': 33, 'max_depth': 5, 'n_estimators': 104}. Best is trial 1 with value: 0.5470803310970552.\n"
          ]
        },
        {
          "output_type": "stream",
          "name": "stdout",
          "text": [
            "Training accuracy: 0.5456\n",
            "Testing accuracy: 0.5449\n"
          ]
        },
        {
          "output_type": "stream",
          "name": "stderr",
          "text": [
            "[I 2025-01-27 17:47:53,813] Trial 11 finished with value: 0.5473398822991723 and parameters: {'learning_rate': 0.1988033304666703, 'num_leaves': 45, 'max_depth': 9, 'n_estimators': 284}. Best is trial 11 with value: 0.5473398822991723.\n"
          ]
        },
        {
          "output_type": "stream",
          "name": "stdout",
          "text": [
            "Training accuracy: 0.5539\n",
            "Testing accuracy: 0.5473\n"
          ]
        },
        {
          "output_type": "stream",
          "name": "stderr",
          "text": [
            "[I 2025-01-27 17:50:24,494] Trial 12 finished with value: 0.5467681173321898 and parameters: {'learning_rate': 0.19645133381488175, 'num_leaves': 47, 'max_depth': 6, 'n_estimators': 211}. Best is trial 11 with value: 0.5473398822991723.\n"
          ]
        },
        {
          "output_type": "stream",
          "name": "stdout",
          "text": [
            "Training accuracy: 0.5512\n",
            "Testing accuracy: 0.5468\n"
          ]
        },
        {
          "output_type": "stream",
          "name": "stderr",
          "text": [
            "[I 2025-01-27 17:53:05,319] Trial 13 finished with value: 0.5475618173850404 and parameters: {'learning_rate': 0.16830237874701595, 'num_leaves': 45, 'max_depth': 9, 'n_estimators': 289}. Best is trial 13 with value: 0.5475618173850404.\n"
          ]
        },
        {
          "output_type": "stream",
          "name": "stdout",
          "text": [
            "Training accuracy: 0.5529\n",
            "Testing accuracy: 0.5476\n"
          ]
        },
        {
          "output_type": "stream",
          "name": "stderr",
          "text": [
            "[I 2025-01-27 17:55:58,483] Trial 14 finished with value: 0.5468621576228119 and parameters: {'learning_rate': 0.168583192563389, 'num_leaves': 35, 'max_depth': 7, 'n_estimators': 299}. Best is trial 13 with value: 0.5475618173850404.\n"
          ]
        },
        {
          "output_type": "stream",
          "name": "stdout",
          "text": [
            "Training accuracy: 0.5512\n",
            "Testing accuracy: 0.5469\n",
            "Best trial:\n",
            "  Accuracy: 0.5475618173850404\n",
            "  Hyperparameter Tuning Result: \n",
            "    learning_rate: 0.16830237874701595\n",
            "    num_leaves: 45\n",
            "    max_depth: 9\n",
            "    n_estimators: 289\n"
          ]
        }
      ],
      "source": [
        "opt = optuna.create_study(direction = 'maximize')\n",
        "opt.optimize(tune, n_trials = 15)\n",
        "print(\"Best trial:\")\n",
        "trial = opt.best_trial\n",
        "print(f\"  Accuracy: {trial.value}\")\n",
        "print(\"  Hyperparameter Tuning Result: \")\n",
        "for key, value in trial.params.items():\n",
        "    print(f\"    {key}: {value}\")\n"
      ]
    },
    {
      "cell_type": "code",
      "execution_count": 28,
      "metadata": {
        "colab": {
          "base_uri": "https://localhost:8080/"
        },
        "id": "Maw1MlQYJCoW",
        "outputId": "7f34912a-4078-459f-d435-8d00b3236edc"
      },
      "outputs": [
        {
          "output_type": "stream",
          "name": "stdout",
          "text": [
            "Final Model Accuracy: 0.5472\n",
            "Classification Report:\n",
            "               precision    recall  f1-score   support\n",
            "\n",
            "         0.0       0.53      0.73      0.62    531504\n",
            "         1.0       0.58      0.36      0.44    531870\n",
            "\n",
            "    accuracy                           0.55   1063374\n",
            "   macro avg       0.55      0.55      0.53   1063374\n",
            "weighted avg       0.55      0.55      0.53   1063374\n",
            "\n"
          ]
        }
      ],
      "source": [
        "final_model = lgb.LGBMClassifier(\n",
        "    learning_rate = 0.16830237874701595,\n",
        "    num_leaves = 45,\n",
        "    max_depth = 9,\n",
        "    n_estimators = 289\n",
        ")\n",
        "final_model.fit(X_train, Y_train)\n",
        "y_pred = final_model.predict(X_test)\n",
        "accuracy = accuracy_score(Y_test, y_pred)\n",
        "print(f\"Final Model Accuracy: {accuracy:.4f}\")\n",
        "print(\"Classification Report:\\n\", classification_report(Y_test, y_pred))"
      ]
    }
  ],
  "metadata": {
    "accelerator": "GPU",
    "colab": {
      "gpuType": "T4",
      "provenance": []
    },
    "kernelspec": {
      "display_name": "Python 3",
      "name": "python3"
    },
    "language_info": {
      "name": "python"
    }
  },
  "nbformat": 4,
  "nbformat_minor": 0
}